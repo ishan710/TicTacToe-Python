{
 "cells": [
  {
   "cell_type": "code",
   "execution_count": 32,
   "metadata": {
    "collapsed": true
   },
   "outputs": [],
   "source": [
    "from __future__ import print_function \n",
    "import os\n",
    "playerOne = 'O'\n",
    "playerTwo = 'X'\n",
    "from IPython.display import clear_output"
   ]
  },
  {
   "cell_type": "code",
   "execution_count": 33,
   "metadata": {
    "collapsed": true
   },
   "outputs": [],
   "source": [
    "def displayBoard(board):\n",
    "\n",
    "\n",
    "\tprint('   |   |')\n",
    "\tprint(' ' + board[7] + ' | ' + board[8] + ' | ' + board[9])\n",
    "\tprint('   |   |')\n",
    "\tprint('-----------')\n",
    "\tprint('   |   |')\n",
    "\tprint(' ' + board[4] + ' | ' + board[5] + ' | ' + board[6])\n",
    "\tprint('   |   |')\n",
    "\tprint('-----------')\n",
    "\tprint('   |   |')\n",
    "\tprint(' ' + board[1] + ' | ' + board[2] + ' | ' + board[3])\n",
    "\tprint('   |   |')  \n"
   ]
  },
  {
   "cell_type": "code",
   "execution_count": 34,
   "metadata": {
    "collapsed": true
   },
   "outputs": [],
   "source": [
    "v = [' ',' ',' ',' ',' ',' ',' ',' ',' ',' ',' ']\n",
    "referencePoints = [str(0),str(1),str(2),str(3),str(4),str(5),str(6),str(7),str(8),str(9)]"
   ]
  },
  {
   "cell_type": "code",
   "execution_count": 35,
   "metadata": {},
   "outputs": [
    {
     "name": "stderr",
     "output_type": "stream",
     "text": [
      "<ipython-input-35-89de169530f4>:8: SyntaxWarning: name 'playerOne' is assigned to before global declaration\n",
      "  global playerOne\n",
      "<ipython-input-35-89de169530f4>:9: SyntaxWarning: name 'playerTwo' is assigned to before global declaration\n",
      "  global playerTwo\n"
     ]
    }
   ],
   "source": [
    "def takingInput():\n",
    "\tprint (' Welcome to TicTacToe')\n",
    "\tplayerOne = raw_input(\"What to you want? X or O? \\n\")\n",
    "\n",
    "\tif playerOne == 'X':\n",
    "\t\tplayerOne = 'X'\n",
    "\t\tplayerTwo = 'O'\n",
    "\t\tglobal playerOne\n",
    "\t\tglobal playerTwo\n",
    "\telse:\n",
    "\t\tpass\t\n",
    "\tprint ('Player One is ' + playerOne, ' and Player Two is ' + playerTwo )\n",
    "\n",
    "\n"
   ]
  },
  {
   "cell_type": "code",
   "execution_count": 42,
   "metadata": {},
   "outputs": [
    {
     "name": "stderr",
     "output_type": "stream",
     "text": [
      "<ipython-input-42-e613637f65a6>:4: SyntaxWarning: name 'playerMove' is assigned to before global declaration\n",
      "  global playerMove\n"
     ]
    }
   ],
   "source": [
    "def movingOnBoard():\n",
    "    os.system('clear')\n",
    "    playerMove = input('On which number do you want to move, 1 - 9')\n",
    "    global playerMove\n",
    "    return playerMove\n",
    "    clear_output()\n",
    "    displayBoard(playerMove)\n",
    "\n",
    "\n",
    "\n",
    "\n"
   ]
  },
  {
   "cell_type": "code",
   "execution_count": null,
   "metadata": {},
   "outputs": [],
   "source": [
    "takingInput()\n",
    "displayBoard(referencePoints)\n",
    "print(' SO HERE WE START')\n",
    "displayBoard(v)\n",
    "\n",
    "flag = True\n",
    "t=0\n",
    "for T in v:\n",
    "    movingOnBoard()\n",
    "    if flag == True:\n",
    "        \n",
    "        v[playerMove] = playerOne\n",
    "    else: \n",
    "        v[playerMove] = playerTwo\n",
    "    flag = not flag\n",
    "\n",
    "    displayBoard(v)\n",
    "\n"
   ]
  },
  {
   "cell_type": "code",
   "execution_count": null,
   "metadata": {},
   "outputs": [],
   "source": []
  },
  {
   "cell_type": "code",
   "execution_count": null,
   "metadata": {
    "collapsed": true
   },
   "outputs": [],
   "source": []
  },
  {
   "cell_type": "code",
   "execution_count": null,
   "metadata": {
    "collapsed": true
   },
   "outputs": [],
   "source": []
  }
 ],
 "metadata": {
  "kernelspec": {
   "display_name": "Python 2",
   "language": "python",
   "name": "python2"
  },
  "language_info": {
   "codemirror_mode": {
    "name": "ipython",
    "version": 2
   },
   "file_extension": ".py",
   "mimetype": "text/x-python",
   "name": "python",
   "nbconvert_exporter": "python",
   "pygments_lexer": "ipython2",
   "version": "2.7.13"
  }
 },
 "nbformat": 4,
 "nbformat_minor": 2
}
